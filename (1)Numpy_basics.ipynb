{
  "cells": [
    {
      "cell_type": "code",
      "execution_count": 28,
      "id": "277ace75",
      "metadata": {
        "id": "277ace75"
      },
      "outputs": [],
      "source": [
        "import numpy as np #2005 by Travis Oliphant"
      ]
    },
    {
      "cell_type": "code",
      "execution_count": 29,
      "id": "d710597e",
      "metadata": {
        "id": "d710597e",
        "outputId": "1684c6d0-4791-4436-f231-8dfe1d103499",
        "colab": {
          "base_uri": "https://localhost:8080/",
          "height": 36
        }
      },
      "outputs": [
        {
          "output_type": "execute_result",
          "data": {
            "text/plain": [
              "'1.25.2'"
            ],
            "application/vnd.google.colaboratory.intrinsic+json": {
              "type": "string"
            }
          },
          "metadata": {},
          "execution_count": 29
        }
      ],
      "source": [
        "np.__version__"
      ]
    },
    {
      "cell_type": "code",
      "execution_count": 30,
      "id": "9acfa15f",
      "metadata": {
        "id": "9acfa15f",
        "outputId": "d2eb06a1-9a20-4b58-8bd8-a7ed9015d7a1",
        "colab": {
          "base_uri": "https://localhost:8080/"
        }
      },
      "outputs": [
        {
          "output_type": "stream",
          "name": "stdout",
          "text": [
            "\n",
            "NumPy\n",
            "=====\n",
            "\n",
            "Provides\n",
            "  1. An array object of arbitrary homogeneous items\n",
            "  2. Fast mathematical operations over arrays\n",
            "  3. Linear Algebra, Fourier Transforms, Random Number Generation\n",
            "\n",
            "How to use the documentation\n",
            "----------------------------\n",
            "Documentation is available in two forms: docstrings provided\n",
            "with the code, and a loose standing reference guide, available from\n",
            "`the NumPy homepage <https://numpy.org>`_.\n",
            "\n",
            "We recommend exploring the docstrings using\n",
            "`IPython <https://ipython.org>`_, an advanced Python shell with\n",
            "TAB-completion and introspection capabilities.  See below for further\n",
            "instructions.\n",
            "\n",
            "The docstring examples assume that `numpy` has been imported as ``np``::\n",
            "\n",
            "  >>> import numpy as np\n",
            "\n",
            "Code snippets are indicated by three greater-than signs::\n",
            "\n",
            "  >>> x = 42\n",
            "  >>> x = x + 1\n",
            "\n",
            "Use the built-in ``help`` function to view a function's docstring::\n",
            "\n",
            "  >>> help(np.sort)\n",
            "  ... # doctest: +SKIP\n",
            "\n",
            "For some objects, ``np.info(obj)`` may provide additional help.  This is\n",
            "particularly true if you see the line \"Help on ufunc object:\" at the top\n",
            "of the help() page.  Ufuncs are implemented in C, not Python, for speed.\n",
            "The native Python help() does not know how to view their help, but our\n",
            "np.info() function does.\n",
            "\n",
            "To search for documents containing a keyword, do::\n",
            "\n",
            "  >>> np.lookfor('keyword')\n",
            "  ... # doctest: +SKIP\n",
            "\n",
            "General-purpose documents like a glossary and help on the basic concepts\n",
            "of numpy are available under the ``doc`` sub-module::\n",
            "\n",
            "  >>> from numpy import doc\n",
            "  >>> help(doc)\n",
            "  ... # doctest: +SKIP\n",
            "\n",
            "Available subpackages\n",
            "---------------------\n",
            "lib\n",
            "    Basic functions used by several sub-packages.\n",
            "random\n",
            "    Core Random Tools\n",
            "linalg\n",
            "    Core Linear Algebra Tools\n",
            "fft\n",
            "    Core FFT routines\n",
            "polynomial\n",
            "    Polynomial tools\n",
            "testing\n",
            "    NumPy testing tools\n",
            "distutils\n",
            "    Enhancements to distutils with support for\n",
            "    Fortran compilers support and more.\n",
            "\n",
            "Utilities\n",
            "---------\n",
            "test\n",
            "    Run numpy unittests\n",
            "show_config\n",
            "    Show numpy build configuration\n",
            "matlib\n",
            "    Make everything matrices.\n",
            "__version__\n",
            "    NumPy version string\n",
            "\n",
            "Viewing documentation using IPython\n",
            "-----------------------------------\n",
            "\n",
            "Start IPython and import `numpy` usually under the alias ``np``: `import\n",
            "numpy as np`.  Then, directly past or use the ``%cpaste`` magic to paste\n",
            "examples into the shell.  To see which functions are available in `numpy`,\n",
            "type ``np.<TAB>`` (where ``<TAB>`` refers to the TAB key), or use\n",
            "``np.*cos*?<ENTER>`` (where ``<ENTER>`` refers to the ENTER key) to narrow\n",
            "down the list.  To view the docstring for a function, use\n",
            "``np.cos?<ENTER>`` (to view the docstring) and ``np.cos??<ENTER>`` (to view\n",
            "the source code).\n",
            "\n",
            "Copies vs. in-place operation\n",
            "-----------------------------\n",
            "Most of the functions in `numpy` return a copy of the array argument\n",
            "(e.g., `np.sort`).  In-place versions of these functions are often\n",
            "available as array methods, i.e. ``x = np.array([1,2,3]); x.sort()``.\n",
            "Exceptions to this rule are documented.\n",
            "\n",
            "\n"
          ]
        }
      ],
      "source": [
        "print(np.__doc__)"
      ]
    },
    {
      "cell_type": "code",
      "execution_count": 31,
      "id": "d830de6b",
      "metadata": {
        "id": "d830de6b"
      },
      "outputs": [],
      "source": [
        "#Why numpy\n",
        "#-mathematical function\n",
        "#Faster"
      ]
    },
    {
      "cell_type": "code",
      "execution_count": 32,
      "id": "956f9f42",
      "metadata": {
        "id": "956f9f42"
      },
      "outputs": [],
      "source": [
        "l = [1, 2, 3, 4, 5]"
      ]
    },
    {
      "cell_type": "code",
      "execution_count": 33,
      "id": "300cecb1",
      "metadata": {
        "id": "300cecb1"
      },
      "outputs": [],
      "source": [
        "arr = np.array(l)"
      ]
    },
    {
      "cell_type": "code",
      "execution_count": 34,
      "id": "5eb5099b",
      "metadata": {
        "id": "5eb5099b",
        "outputId": "3cc578a7-3741-4a66-89cf-593ae971d1e4",
        "colab": {
          "base_uri": "https://localhost:8080/"
        }
      },
      "outputs": [
        {
          "output_type": "execute_result",
          "data": {
            "text/plain": [
              "array([1, 2, 3, 4, 5])"
            ]
          },
          "metadata": {},
          "execution_count": 34
        }
      ],
      "source": [
        "arr"
      ]
    },
    {
      "cell_type": "code",
      "execution_count": 35,
      "id": "1830fae0",
      "metadata": {
        "id": "1830fae0",
        "outputId": "3fa21246-204c-47da-da72-57a9bf869fc3",
        "colab": {
          "base_uri": "https://localhost:8080/"
        }
      },
      "outputs": [
        {
          "output_type": "execute_result",
          "data": {
            "text/plain": [
              "numpy.ndarray"
            ]
          },
          "metadata": {},
          "execution_count": 35
        }
      ],
      "source": [
        "type(np.array(l))"
      ]
    },
    {
      "cell_type": "code",
      "execution_count": 36,
      "id": "4678219e",
      "metadata": {
        "id": "4678219e",
        "outputId": "29cded5c-432c-488e-faa4-433dca04ba97",
        "colab": {
          "base_uri": "https://localhost:8080/"
        }
      },
      "outputs": [
        {
          "output_type": "execute_result",
          "data": {
            "text/plain": [
              "numpy.ndarray"
            ]
          },
          "metadata": {},
          "execution_count": 36
        }
      ],
      "source": [
        "type(np.array(l))"
      ]
    },
    {
      "cell_type": "code",
      "execution_count": 37,
      "id": "fe1a7481",
      "metadata": {
        "id": "fe1a7481",
        "outputId": "7e10ed47-5ef5-45f4-97d4-d2ca138f53ca",
        "colab": {
          "base_uri": "https://localhost:8080/"
        }
      },
      "outputs": [
        {
          "output_type": "execute_result",
          "data": {
            "text/plain": [
              "1"
            ]
          },
          "metadata": {},
          "execution_count": 37
        }
      ],
      "source": [
        "arr.ndim # to print the dimension of an array, here it is 1d array so it gives output 1"
      ]
    },
    {
      "cell_type": "code",
      "execution_count": 38,
      "id": "50c33014",
      "metadata": {
        "id": "50c33014",
        "outputId": "dd679be5-a243-4bc8-c7bd-2e2e6349cd12",
        "colab": {
          "base_uri": "https://localhost:8080/"
        }
      },
      "outputs": [
        {
          "output_type": "execute_result",
          "data": {
            "text/plain": [
              "array(['1', '2', '3', '4', '5', 'Rishi'], dtype='<U21')"
            ]
          },
          "metadata": {},
          "execution_count": 38
        }
      ],
      "source": [
        "l = [1, 2, 3, 4, 5, \"Rishi\"]\n",
        "arr1 = np.array(l)\n",
        "arr1"
      ]
    },
    {
      "cell_type": "code",
      "execution_count": 39,
      "id": "ed63c3f3",
      "metadata": {
        "id": "ed63c3f3",
        "outputId": "b070129d-bff1-45a8-e606-46c1b25ed069",
        "colab": {
          "base_uri": "https://localhost:8080/"
        }
      },
      "outputs": [
        {
          "output_type": "execute_result",
          "data": {
            "text/plain": [
              "1"
            ]
          },
          "metadata": {},
          "execution_count": 39
        }
      ],
      "source": [
        "arr.ndim"
      ]
    },
    {
      "cell_type": "code",
      "execution_count": 40,
      "id": "20bb2fad",
      "metadata": {
        "id": "20bb2fad",
        "outputId": "27fc4ffe-5897-418a-f6bd-173011cd60c8",
        "colab": {
          "base_uri": "https://localhost:8080/"
        }
      },
      "outputs": [
        {
          "output_type": "execute_result",
          "data": {
            "text/plain": [
              "array([1, 2, 3, 4, 5])"
            ]
          },
          "metadata": {},
          "execution_count": 40
        }
      ],
      "source": [
        "arr"
      ]
    },
    {
      "cell_type": "code",
      "execution_count": 41,
      "id": "9920a017",
      "metadata": {
        "id": "9920a017"
      },
      "outputs": [],
      "source": [
        "arr1 = np.array([[1, 2, 3], [4, 5, 6]]) # no. of brackets will tell you if its a 1d 2d or a 3d array\n",
        "                                        # here 2 brackets are present in begining so its a 2d array"
      ]
    },
    {
      "cell_type": "code",
      "execution_count": 42,
      "id": "eeaf7d5f",
      "metadata": {
        "id": "eeaf7d5f",
        "outputId": "d86db820-18d0-4a62-ceeb-127c8de6e86b",
        "colab": {
          "base_uri": "https://localhost:8080/"
        }
      },
      "outputs": [
        {
          "output_type": "execute_result",
          "data": {
            "text/plain": [
              "array([[1, 2, 3],\n",
              "       [4, 5, 6]])"
            ]
          },
          "metadata": {},
          "execution_count": 42
        }
      ],
      "source": [
        "arr1"
      ]
    },
    {
      "cell_type": "code",
      "execution_count": 43,
      "id": "a41749ab",
      "metadata": {
        "id": "a41749ab",
        "outputId": "f22f343a-6764-4077-faa1-1e121a42f63f",
        "colab": {
          "base_uri": "https://localhost:8080/"
        }
      },
      "outputs": [
        {
          "output_type": "execute_result",
          "data": {
            "text/plain": [
              "2"
            ]
          },
          "metadata": {},
          "execution_count": 43
        }
      ],
      "source": [
        "arr1.ndim"
      ]
    },
    {
      "cell_type": "code",
      "execution_count": 44,
      "id": "da020e8d",
      "metadata": {
        "id": "da020e8d"
      },
      "outputs": [],
      "source": [
        "l = [1, 2, 3, 4]"
      ]
    },
    {
      "cell_type": "code",
      "execution_count": 45,
      "id": "c74d488e",
      "metadata": {
        "id": "c74d488e",
        "outputId": "44160780-df30-447a-e642-3b817c7951d5",
        "colab": {
          "base_uri": "https://localhost:8080/"
        }
      },
      "outputs": [
        {
          "output_type": "execute_result",
          "data": {
            "text/plain": [
              "array([1, 2, 3, 4])"
            ]
          },
          "metadata": {},
          "execution_count": 45
        }
      ],
      "source": [
        "np.array(l)"
      ]
    },
    {
      "cell_type": "code",
      "execution_count": 46,
      "id": "89aa1903",
      "metadata": {
        "id": "89aa1903"
      },
      "outputs": [],
      "source": [
        "mat = np.matrix(l) #matris will be by default 2d"
      ]
    },
    {
      "cell_type": "code",
      "execution_count": 47,
      "id": "df865184",
      "metadata": {
        "id": "df865184",
        "outputId": "525e5d8a-298b-4f05-a4ca-604e5d36917a",
        "colab": {
          "base_uri": "https://localhost:8080/"
        }
      },
      "outputs": [
        {
          "output_type": "execute_result",
          "data": {
            "text/plain": [
              "matrix([[1, 2],\n",
              "        [5, 6],\n",
              "        [7, 8]])"
            ]
          },
          "metadata": {},
          "execution_count": 47
        }
      ],
      "source": [
        "np.matrix([[1, 2], [5, 6], [7, 8]])"
      ]
    },
    {
      "cell_type": "code",
      "execution_count": 48,
      "id": "450222ad",
      "metadata": {
        "id": "450222ad",
        "outputId": "97c1f9c7-62ec-46ea-caea-78a67c4fe084",
        "colab": {
          "base_uri": "https://localhost:8080/"
        }
      },
      "outputs": [
        {
          "output_type": "execute_result",
          "data": {
            "text/plain": [
              "array([[[1, 2],\n",
              "        [5, 6],\n",
              "        [7, 8]]])"
            ]
          },
          "metadata": {},
          "execution_count": 48
        }
      ],
      "source": [
        "np.array([[[1, 2], [5, 6], [7, 8]]]) # here there are 3 brackets in begining, so its a 3d"
      ]
    },
    {
      "cell_type": "code",
      "execution_count": 49,
      "id": "070ed685",
      "metadata": {
        "id": "070ed685",
        "outputId": "9744a610-fa28-4c78-9832-6f69a93612b6",
        "colab": {
          "base_uri": "https://localhost:8080/"
        }
      },
      "outputs": [
        {
          "output_type": "execute_result",
          "data": {
            "text/plain": [
              "array([[[1, 2],\n",
              "        [5, 6],\n",
              "        [7, 8]]])"
            ]
          },
          "metadata": {},
          "execution_count": 49
        }
      ],
      "source": [
        "#more way to convert list to array\n",
        "np.asarray([[[1, 2], [5, 6], [7, 8]]])"
      ]
    },
    {
      "cell_type": "code",
      "execution_count": 50,
      "id": "a348967d",
      "metadata": {
        "id": "a348967d",
        "outputId": "1e5a7e57-ccd7-43d4-f540-cd164a10658d",
        "colab": {
          "base_uri": "https://localhost:8080/"
        }
      },
      "outputs": [
        {
          "output_type": "execute_result",
          "data": {
            "text/plain": [
              "array([[[1, 2],\n",
              "        [5, 6],\n",
              "        [7, 8]]])"
            ]
          },
          "metadata": {},
          "execution_count": 50
        }
      ],
      "source": [
        "np.asanyarray([[[1, 2], [5, 6], [7, 8]]]) #Convert the input to an ndarray, but pass ndarray subclasses through."
      ]
    },
    {
      "cell_type": "code",
      "execution_count": 51,
      "id": "3f8739e9",
      "metadata": {
        "id": "3f8739e9",
        "outputId": "d9b192d1-4f2e-4ee1-eb80-3e95491edb29",
        "colab": {
          "base_uri": "https://localhost:8080/"
        }
      },
      "outputs": [
        {
          "output_type": "execute_result",
          "data": {
            "text/plain": [
              "matrix([[1, 2, 3, 4]])"
            ]
          },
          "metadata": {},
          "execution_count": 51
        }
      ],
      "source": [
        "mat"
      ]
    },
    {
      "cell_type": "code",
      "execution_count": 52,
      "id": "e7d0329e",
      "metadata": {
        "id": "e7d0329e",
        "outputId": "828f8181-2412-425a-ba90-7e3322bc69f1",
        "colab": {
          "base_uri": "https://localhost:8080/"
        }
      },
      "outputs": [
        {
          "output_type": "execute_result",
          "data": {
            "text/plain": [
              "matrix([[1, 2, 3, 4]])"
            ]
          },
          "metadata": {},
          "execution_count": 52
        }
      ],
      "source": [
        "np.asanyarray(mat) # as matrix is a subclass of an array(just like 2d array), hence it will pass matrix itself(asanyarray())"
      ]
    },
    {
      "cell_type": "code",
      "execution_count": 53,
      "id": "75577185",
      "metadata": {
        "id": "75577185",
        "outputId": "cbecbc15-d76c-4561-a124-307bed6cfd51",
        "colab": {
          "base_uri": "https://localhost:8080/"
        }
      },
      "outputs": [
        {
          "output_type": "execute_result",
          "data": {
            "text/plain": [
              "array([[[1, 2],\n",
              "        [5, 6],\n",
              "        [7, 8]]])"
            ]
          },
          "metadata": {},
          "execution_count": 53
        }
      ],
      "source": [
        "np.asarray([[[1, 2], [5, 6], [7, 8]]])"
      ]
    },
    {
      "cell_type": "code",
      "execution_count": 54,
      "id": "6febaf03",
      "metadata": {
        "id": "6febaf03",
        "outputId": "ec23cc75-d07b-4d0c-8cb9-54a6942a2122",
        "colab": {
          "base_uri": "https://localhost:8080/"
        }
      },
      "outputs": [
        {
          "output_type": "execute_result",
          "data": {
            "text/plain": [
              "array([[[1, 2],\n",
              "        [5, 6],\n",
              "        [7, 8]]])"
            ]
          },
          "metadata": {},
          "execution_count": 54
        }
      ],
      "source": [
        "np.array([[[1, 2], [5, 6], [7, 8]]])"
      ]
    },
    {
      "cell_type": "code",
      "execution_count": 55,
      "id": "cd0a4023",
      "metadata": {
        "id": "cd0a4023",
        "outputId": "4098e81f-fa17-48be-b4e3-003a325e78ae",
        "colab": {
          "base_uri": "https://localhost:8080/"
        }
      },
      "outputs": [
        {
          "output_type": "execute_result",
          "data": {
            "text/plain": [
              "tuple"
            ]
          },
          "metadata": {},
          "execution_count": 55
        }
      ],
      "source": [
        "t = ([1, 2, 3], [4, 5, 6])\n",
        "type(t)"
      ]
    },
    {
      "cell_type": "code",
      "execution_count": 56,
      "id": "1f802b54",
      "metadata": {
        "id": "1f802b54",
        "outputId": "ec0bd431-756b-4b38-e550-c92cb03a8186",
        "colab": {
          "base_uri": "https://localhost:8080/"
        }
      },
      "outputs": [
        {
          "output_type": "execute_result",
          "data": {
            "text/plain": [
              "array([[1, 2, 3],\n",
              "       [4, 5, 6]])"
            ]
          },
          "metadata": {},
          "execution_count": 56
        }
      ],
      "source": [
        "np.array(t)"
      ]
    },
    {
      "cell_type": "code",
      "execution_count": 57,
      "id": "0ac2ed31",
      "metadata": {
        "id": "0ac2ed31",
        "outputId": "d1f31a9e-cf6b-47dd-d350-90105fa5c353",
        "colab": {
          "base_uri": "https://localhost:8080/"
        }
      },
      "outputs": [
        {
          "output_type": "execute_result",
          "data": {
            "text/plain": [
              "array(5)"
            ]
          },
          "metadata": {},
          "execution_count": 57
        }
      ],
      "source": [
        "a = 5\n",
        "np.array(a)"
      ]
    },
    {
      "cell_type": "code",
      "execution_count": 58,
      "id": "5487a14e",
      "metadata": {
        "id": "5487a14e",
        "outputId": "9e231b33-54d4-4e71-b3e3-b191337299f4",
        "colab": {
          "base_uri": "https://localhost:8080/"
        }
      },
      "outputs": [
        {
          "output_type": "execute_result",
          "data": {
            "text/plain": [
              "array([1, 2, 3, 4, 5])"
            ]
          },
          "metadata": {},
          "execution_count": 58
        }
      ],
      "source": [
        "l = [1, 2, 3, 4, 5]\n",
        "arr = np.array(l)\n",
        "arr"
      ]
    },
    {
      "cell_type": "code",
      "execution_count": 59,
      "id": "461f7064",
      "metadata": {
        "id": "461f7064"
      },
      "outputs": [],
      "source": [
        "a = arr"
      ]
    },
    {
      "cell_type": "code",
      "execution_count": 60,
      "id": "7898f025",
      "metadata": {
        "id": "7898f025",
        "outputId": "01d12fa9-db46-421f-88fb-b31bab79c141",
        "colab": {
          "base_uri": "https://localhost:8080/"
        }
      },
      "outputs": [
        {
          "output_type": "execute_result",
          "data": {
            "text/plain": [
              "array([1, 2, 3, 4, 5])"
            ]
          },
          "metadata": {},
          "execution_count": 60
        }
      ],
      "source": [
        "a"
      ]
    },
    {
      "cell_type": "code",
      "execution_count": 61,
      "id": "575cec3f",
      "metadata": {
        "id": "575cec3f"
      },
      "outputs": [],
      "source": [
        "arr[0] = 1000"
      ]
    },
    {
      "cell_type": "code",
      "execution_count": 62,
      "id": "0bfd4289",
      "metadata": {
        "id": "0bfd4289",
        "outputId": "f4d82b5c-665c-457d-c3d3-7c033e3808a8",
        "colab": {
          "base_uri": "https://localhost:8080/"
        }
      },
      "outputs": [
        {
          "output_type": "execute_result",
          "data": {
            "text/plain": [
              "array([1000,    2,    3,    4,    5])"
            ]
          },
          "metadata": {},
          "execution_count": 62
        }
      ],
      "source": [
        "arr"
      ]
    },
    {
      "cell_type": "code",
      "execution_count": 63,
      "id": "07bf7359",
      "metadata": {
        "id": "07bf7359",
        "outputId": "d520b013-ff9b-44e6-fcbb-d9b1dd2babb8",
        "colab": {
          "base_uri": "https://localhost:8080/"
        }
      },
      "outputs": [
        {
          "output_type": "execute_result",
          "data": {
            "text/plain": [
              "array([1000,    2,    3,    4,    5])"
            ]
          },
          "metadata": {},
          "execution_count": 63
        }
      ],
      "source": [
        "a"
      ]
    },
    {
      "cell_type": "code",
      "execution_count": 64,
      "id": "75b57f92",
      "metadata": {
        "id": "75b57f92",
        "outputId": "078a5956-bf84-4346-d41d-566e7206ab1e",
        "colab": {
          "base_uri": "https://localhost:8080/"
        }
      },
      "outputs": [
        {
          "output_type": "execute_result",
          "data": {
            "text/plain": [
              "array([1000,    2,    3,    4,    5])"
            ]
          },
          "metadata": {},
          "execution_count": 64
        }
      ],
      "source": [
        "a"
      ]
    },
    {
      "cell_type": "code",
      "execution_count": 65,
      "id": "f7c4a254",
      "metadata": {
        "id": "f7c4a254"
      },
      "outputs": [],
      "source": [
        "b = a.copy()\n",
        "b[0] = 2000"
      ]
    },
    {
      "cell_type": "code",
      "execution_count": 66,
      "id": "330ab1a3",
      "metadata": {
        "id": "330ab1a3",
        "outputId": "3c4e1a62-40a4-4037-fce4-32114e3e0033",
        "colab": {
          "base_uri": "https://localhost:8080/"
        }
      },
      "outputs": [
        {
          "output_type": "execute_result",
          "data": {
            "text/plain": [
              "array([2000,    2,    3,    4,    5])"
            ]
          },
          "metadata": {},
          "execution_count": 66
        }
      ],
      "source": [
        "b"
      ]
    },
    {
      "cell_type": "code",
      "execution_count": 67,
      "id": "64c65d03",
      "metadata": {
        "id": "64c65d03",
        "outputId": "14074d29-6502-4d99-943b-148a594552c1",
        "colab": {
          "base_uri": "https://localhost:8080/"
        }
      },
      "outputs": [
        {
          "output_type": "execute_result",
          "data": {
            "text/plain": [
              "array([1000,    2,    3,    4,    5])"
            ]
          },
          "metadata": {},
          "execution_count": 67
        }
      ],
      "source": [
        "a"
      ]
    },
    {
      "cell_type": "code",
      "execution_count": 68,
      "id": "5d28e1f3",
      "metadata": {
        "id": "5d28e1f3"
      },
      "outputs": [],
      "source": [
        "#to create array >> .array, .asasrray, .asanyarray, deep copy, shallow copy"
      ]
    },
    {
      "cell_type": "code",
      "execution_count": 69,
      "id": "573a36e6",
      "metadata": {
        "id": "573a36e6"
      },
      "outputs": [],
      "source": [
        "#There are multiple ways to generating arrays: fromfunction, fromiter, fromstring"
      ]
    },
    {
      "cell_type": "code",
      "execution_count": 70,
      "id": "48cce040",
      "metadata": {
        "id": "48cce040",
        "outputId": "37c7a68f-826f-45eb-ca31-8e08b03f0c51",
        "colab": {
          "base_uri": "https://localhost:8080/"
        }
      },
      "outputs": [
        {
          "output_type": "execute_result",
          "data": {
            "text/plain": [
              "array([[ True, False, False],\n",
              "       [False,  True, False],\n",
              "       [False, False,  True]])"
            ]
          },
          "metadata": {},
          "execution_count": 70
        }
      ],
      "source": [
        "np.fromfunction(lambda i, j : i==j, (3, 3))"
      ]
    },
    {
      "cell_type": "code",
      "execution_count": 71,
      "id": "4b321c2b",
      "metadata": {
        "id": "4b321c2b",
        "outputId": "6bec1985-d7c2-414b-ffa4-a4ecc123ca5f",
        "colab": {
          "base_uri": "https://localhost:8080/"
        }
      },
      "outputs": [
        {
          "output_type": "execute_result",
          "data": {
            "text/plain": [
              "array([1000,    2,    3,    4,    5])"
            ]
          },
          "metadata": {},
          "execution_count": 71
        }
      ],
      "source": [
        "arr"
      ]
    },
    {
      "cell_type": "code",
      "execution_count": 72,
      "id": "f2f93603",
      "metadata": {
        "id": "f2f93603",
        "outputId": "a560ad66-65b8-4845-a9ce-0bff3167f44f",
        "colab": {
          "base_uri": "https://localhost:8080/"
        }
      },
      "outputs": [
        {
          "output_type": "execute_result",
          "data": {
            "text/plain": [
              "(5,)"
            ]
          },
          "metadata": {},
          "execution_count": 72
        }
      ],
      "source": [
        "arr.shape"
      ]
    },
    {
      "cell_type": "code",
      "execution_count": 73,
      "id": "e23387f2",
      "metadata": {
        "id": "e23387f2",
        "outputId": "2116deaf-9c1c-4402-c673-94fa8af6fc4a",
        "colab": {
          "base_uri": "https://localhost:8080/"
        }
      },
      "outputs": [
        {
          "output_type": "execute_result",
          "data": {
            "text/plain": [
              "array([[1, 2, 3],\n",
              "       [4, 5, 6]])"
            ]
          },
          "metadata": {},
          "execution_count": 73
        }
      ],
      "source": [
        "arr1"
      ]
    },
    {
      "cell_type": "code",
      "execution_count": 74,
      "id": "3aa88572",
      "metadata": {
        "id": "3aa88572",
        "outputId": "4d4bba70-de3a-4d73-e045-6cf0f3251ac2",
        "colab": {
          "base_uri": "https://localhost:8080/"
        }
      },
      "outputs": [
        {
          "output_type": "execute_result",
          "data": {
            "text/plain": [
              "(2, 3)"
            ]
          },
          "metadata": {},
          "execution_count": 74
        }
      ],
      "source": [
        "arr1.shape"
      ]
    },
    {
      "cell_type": "code",
      "execution_count": 75,
      "id": "8dc90522",
      "metadata": {
        "id": "8dc90522",
        "outputId": "88f6a86e-e5a2-4a80-e291-09e91cc2ce6c",
        "colab": {
          "base_uri": "https://localhost:8080/"
        }
      },
      "outputs": [
        {
          "output_type": "execute_result",
          "data": {
            "text/plain": [
              "5"
            ]
          },
          "metadata": {},
          "execution_count": 75
        }
      ],
      "source": [
        "arr.size"
      ]
    },
    {
      "cell_type": "code",
      "execution_count": 76,
      "id": "c737f0a0",
      "metadata": {
        "id": "c737f0a0",
        "outputId": "2002ac62-fc7b-4d65-eb49-5f03a6e50103",
        "colab": {
          "base_uri": "https://localhost:8080/"
        }
      },
      "outputs": [
        {
          "output_type": "execute_result",
          "data": {
            "text/plain": [
              "6"
            ]
          },
          "metadata": {},
          "execution_count": 76
        }
      ],
      "source": [
        "arr1.size"
      ]
    },
    {
      "cell_type": "code",
      "execution_count": 77,
      "id": "400f5ecf",
      "metadata": {
        "id": "400f5ecf",
        "outputId": "860e781e-2a34-4eb8-ebd4-b23745730b99",
        "colab": {
          "base_uri": "https://localhost:8080/"
        }
      },
      "outputs": [
        {
          "output_type": "execute_result",
          "data": {
            "text/plain": [
              "array([[ True, False, False],\n",
              "       [False,  True, False],\n",
              "       [False, False,  True]])"
            ]
          },
          "metadata": {},
          "execution_count": 77
        }
      ],
      "source": [
        "np.fromfunction(lambda i, j : i==j, (3, 3))"
      ]
    },
    {
      "cell_type": "code",
      "execution_count": 78,
      "id": "62a688a3",
      "metadata": {
        "id": "62a688a3",
        "outputId": "31db0f15-1175-4f6e-e740-34d3dd70c58c",
        "colab": {
          "base_uri": "https://localhost:8080/"
        }
      },
      "outputs": [
        {
          "output_type": "execute_result",
          "data": {
            "text/plain": [
              "array([[0., 0., 0.],\n",
              "       [0., 1., 2.],\n",
              "       [0., 2., 4.]])"
            ]
          },
          "metadata": {},
          "execution_count": 78
        }
      ],
      "source": [
        "np.fromfunction(lambda i, j : i*j, (3, 3))"
      ]
    },
    {
      "cell_type": "code",
      "execution_count": 79,
      "id": "52515e93",
      "metadata": {
        "id": "52515e93",
        "outputId": "9534290a-15e8-4a09-8dda-d92af9ba5541",
        "colab": {
          "base_uri": "https://localhost:8080/"
        }
      },
      "outputs": [
        {
          "output_type": "stream",
          "name": "stdout",
          "text": [
            "0\n",
            "1\n",
            "2\n",
            "3\n",
            "4\n"
          ]
        }
      ],
      "source": [
        "for i in range(5):\n",
        "    print(i)"
      ]
    },
    {
      "cell_type": "code",
      "execution_count": 80,
      "id": "4be7b4c2",
      "metadata": {
        "id": "4be7b4c2",
        "outputId": "dbc83e96-241a-4067-dd8b-38876193b3c4",
        "colab": {
          "base_uri": "https://localhost:8080/"
        }
      },
      "outputs": [
        {
          "output_type": "execute_result",
          "data": {
            "text/plain": [
              "[0, 1, 2, 3, 4]"
            ]
          },
          "metadata": {},
          "execution_count": 80
        }
      ],
      "source": [
        "[i for i in range(5)]"
      ]
    },
    {
      "cell_type": "code",
      "execution_count": 81,
      "id": "c7f9c871",
      "metadata": {
        "id": "c7f9c871",
        "outputId": "a7a6d07f-3f8d-4b82-f2fa-fd126c7b013f",
        "colab": {
          "base_uri": "https://localhost:8080/"
        }
      },
      "outputs": [
        {
          "output_type": "execute_result",
          "data": {
            "text/plain": [
              "[0, 1, 2, 3, 4]"
            ]
          },
          "metadata": {},
          "execution_count": 81
        }
      ],
      "source": [
        "list(i for i in range(5))"
      ]
    },
    {
      "cell_type": "code",
      "execution_count": 82,
      "id": "b437f1b4",
      "metadata": {
        "id": "b437f1b4",
        "outputId": "ad7ec1c1-d39f-4fa2-a933-1a7083465745",
        "colab": {
          "base_uri": "https://localhost:8080/"
        }
      },
      "outputs": [
        {
          "output_type": "execute_result",
          "data": {
            "text/plain": [
              "[0, 1, 2, 3, 4]"
            ]
          },
          "metadata": {},
          "execution_count": 82
        }
      ],
      "source": [
        "list(range(5))"
      ]
    },
    {
      "cell_type": "code",
      "execution_count": 83,
      "id": "cf6cd7e7",
      "metadata": {
        "id": "cf6cd7e7"
      },
      "outputs": [],
      "source": [
        "iterable = (i*i for i in range(5))"
      ]
    },
    {
      "cell_type": "code",
      "execution_count": 84,
      "id": "d8a56656",
      "metadata": {
        "id": "d8a56656",
        "outputId": "936421ce-903e-4dc3-fd38-48532c2aeee7",
        "colab": {
          "base_uri": "https://localhost:8080/"
        }
      },
      "outputs": [
        {
          "output_type": "execute_result",
          "data": {
            "text/plain": [
              "array([ 0,  1,  4,  9, 16])"
            ]
          },
          "metadata": {},
          "execution_count": 84
        }
      ],
      "source": [
        "np.fromiter(iterable, int)"
      ]
    },
    {
      "cell_type": "code",
      "execution_count": 85,
      "id": "121af580",
      "metadata": {
        "id": "121af580",
        "outputId": "108f70d9-91de-40a8-dd68-dc1fb9d96da5",
        "colab": {
          "base_uri": "https://localhost:8080/"
        }
      },
      "outputs": [
        {
          "output_type": "execute_result",
          "data": {
            "text/plain": [
              "array([23., 34., 67.])"
            ]
          },
          "metadata": {},
          "execution_count": 85
        }
      ],
      "source": [
        "np.fromstring('23 34 67', sep = ' ') # sep = seperator will seperate every digit with space"
      ]
    },
    {
      "cell_type": "code",
      "execution_count": 86,
      "id": "4459929a",
      "metadata": {
        "id": "4459929a",
        "outputId": "b22e4aa5-4e1c-4f35-8782-145bb0ba8d73",
        "colab": {
          "base_uri": "https://localhost:8080/"
        }
      },
      "outputs": [
        {
          "output_type": "execute_result",
          "data": {
            "text/plain": [
              "array([23., 34., 67.])"
            ]
          },
          "metadata": {},
          "execution_count": 86
        }
      ],
      "source": [
        "np.fromstring('23,34,67', sep = ',') # will seperate every digit with a comma"
      ]
    },
    {
      "cell_type": "code",
      "execution_count": 87,
      "id": "c048cb5b",
      "metadata": {
        "id": "c048cb5b",
        "outputId": "f51d41bd-3efd-43a3-cee2-e80de8dcfe83",
        "colab": {
          "base_uri": "https://localhost:8080/"
        }
      },
      "outputs": [
        {
          "output_type": "stream",
          "name": "stderr",
          "text": [
            "<ipython-input-87-11e9461867a2>:1: DeprecationWarning: string or file could not be read to its end due to unmatched data; this will raise a ValueError in the future.\n",
            "  np.fromstring('Suhani,Ajay,Anwesha', sep = ',')\n"
          ]
        },
        {
          "output_type": "execute_result",
          "data": {
            "text/plain": [
              "array([], dtype=float64)"
            ]
          },
          "metadata": {},
          "execution_count": 87
        }
      ],
      "source": [
        "np.fromstring('Suhani,Ajay,Anwesha', sep = ',')"
      ]
    },
    {
      "cell_type": "code",
      "execution_count": 88,
      "id": "e57099da",
      "metadata": {
        "id": "e57099da",
        "outputId": "920c1157-554f-484d-db90-467cc1efdd5a",
        "colab": {
          "base_uri": "https://localhost:8080/"
        }
      },
      "outputs": [
        {
          "output_type": "execute_result",
          "data": {
            "text/plain": [
              "array([1000,    2,    3,    4,    5])"
            ]
          },
          "metadata": {},
          "execution_count": 88
        }
      ],
      "source": [
        "arr"
      ]
    },
    {
      "cell_type": "code",
      "execution_count": 89,
      "id": "d7295c31",
      "metadata": {
        "id": "d7295c31",
        "outputId": "f486f046-e667-410e-c88b-778705761f36",
        "colab": {
          "base_uri": "https://localhost:8080/"
        }
      },
      "outputs": [
        {
          "output_type": "execute_result",
          "data": {
            "text/plain": [
              "5"
            ]
          },
          "metadata": {},
          "execution_count": 89
        }
      ],
      "source": [
        "arr.size"
      ]
    },
    {
      "cell_type": "code",
      "execution_count": 90,
      "id": "0d66ec3f",
      "metadata": {
        "id": "0d66ec3f",
        "outputId": "ff32b4e7-812d-4686-b749-49ce24dfc90a",
        "colab": {
          "base_uri": "https://localhost:8080/"
        }
      },
      "outputs": [
        {
          "output_type": "execute_result",
          "data": {
            "text/plain": [
              "(5,)"
            ]
          },
          "metadata": {},
          "execution_count": 90
        }
      ],
      "source": [
        "arr.shape"
      ]
    },
    {
      "cell_type": "code",
      "execution_count": 91,
      "id": "92fa12e9",
      "metadata": {
        "id": "92fa12e9",
        "outputId": "1581b162-38bf-4f4e-c3ee-c901f4b55577",
        "colab": {
          "base_uri": "https://localhost:8080/"
        }
      },
      "outputs": [
        {
          "output_type": "execute_result",
          "data": {
            "text/plain": [
              "dtype('int64')"
            ]
          },
          "metadata": {},
          "execution_count": 91
        }
      ],
      "source": [
        "arr.dtype"
      ]
    },
    {
      "cell_type": "code",
      "execution_count": 92,
      "id": "33e7e737",
      "metadata": {
        "id": "33e7e737",
        "outputId": "d6accca5-6b43-41e0-ab21-e2e81747ba01",
        "colab": {
          "base_uri": "https://localhost:8080/"
        }
      },
      "outputs": [
        {
          "output_type": "execute_result",
          "data": {
            "text/plain": [
              "dtype('<U21')"
            ]
          },
          "metadata": {},
          "execution_count": 92
        }
      ],
      "source": [
        "l = [1, 2,3, \"Ajay\"]\n",
        "arr = np.array(l)\n",
        "arr.dtype"
      ]
    },
    {
      "cell_type": "code",
      "execution_count": 93,
      "id": "ac013f33",
      "metadata": {
        "id": "ac013f33",
        "outputId": "d1bbdb19-2ae5-4438-8d7a-04d8ebb711de",
        "colab": {
          "base_uri": "https://localhost:8080/"
        }
      },
      "outputs": [
        {
          "output_type": "execute_result",
          "data": {
            "text/plain": [
              "array(['1', '2', '3', 'Ajay'], dtype='<U21')"
            ]
          },
          "metadata": {},
          "execution_count": 93
        }
      ],
      "source": [
        "arr"
      ]
    },
    {
      "cell_type": "code",
      "execution_count": 94,
      "id": "98e044c7",
      "metadata": {
        "id": "98e044c7",
        "outputId": "ec5d7c87-6051-49b9-9ef2-4537c4d4113d",
        "colab": {
          "base_uri": "https://localhost:8080/"
        }
      },
      "outputs": [
        {
          "output_type": "execute_result",
          "data": {
            "text/plain": [
              "[0, 1, 2, 3, 4]"
            ]
          },
          "metadata": {},
          "execution_count": 94
        }
      ],
      "source": [
        "list(range(5))"
      ]
    },
    {
      "cell_type": "code",
      "execution_count": 95,
      "id": "547c5443",
      "metadata": {
        "id": "547c5443",
        "outputId": "bc6775ec-6c91-407f-e3a3-e0d15c844ce9",
        "colab": {
          "base_uri": "https://localhost:8080/"
        }
      },
      "outputs": [
        {
          "output_type": "execute_result",
          "data": {
            "text/plain": [
              "range(0, 5)"
            ]
          },
          "metadata": {},
          "execution_count": 95
        }
      ],
      "source": [
        "range(5)"
      ]
    },
    {
      "cell_type": "code",
      "execution_count": 96,
      "id": "b2ab7c00",
      "metadata": {
        "id": "b2ab7c00",
        "outputId": "68ffc306-d07e-4426-85c6-24f2ef124162",
        "colab": {
          "base_uri": "https://localhost:8080/",
          "height": 141
        }
      },
      "outputs": [
        {
          "output_type": "error",
          "ename": "TypeError",
          "evalue": "'float' object cannot be interpreted as an integer",
          "traceback": [
            "\u001b[0;31m---------------------------------------------------------------------------\u001b[0m",
            "\u001b[0;31mTypeError\u001b[0m                                 Traceback (most recent call last)",
            "\u001b[0;32m<ipython-input-96-8e5d81566b0c>\u001b[0m in \u001b[0;36m<cell line: 1>\u001b[0;34m()\u001b[0m\n\u001b[0;32m----> 1\u001b[0;31m \u001b[0mlist\u001b[0m\u001b[0;34m(\u001b[0m\u001b[0mrange\u001b[0m\u001b[0;34m(\u001b[0m\u001b[0;36m1.0\u001b[0m\u001b[0;34m,\u001b[0m \u001b[0;36m2.10\u001b[0m\u001b[0;34m)\u001b[0m\u001b[0;34m)\u001b[0m\u001b[0;34m\u001b[0m\u001b[0;34m\u001b[0m\u001b[0m\n\u001b[0m",
            "\u001b[0;31mTypeError\u001b[0m: 'float' object cannot be interpreted as an integer"
          ]
        }
      ],
      "source": [
        "list(range(1.0, 2.10))"
      ]
    },
    {
      "cell_type": "code",
      "execution_count": 97,
      "id": "8abb4353",
      "metadata": {
        "id": "8abb4353",
        "outputId": "e2a12bd4-6a77-4476-c101-e6b06395283c",
        "colab": {
          "base_uri": "https://localhost:8080/"
        }
      },
      "outputs": [
        {
          "output_type": "execute_result",
          "data": {
            "text/plain": [
              "[0.1,\n",
              " 0.2,\n",
              " 0.30000000000000004,\n",
              " 0.4,\n",
              " 0.5,\n",
              " 0.6,\n",
              " 0.7000000000000001,\n",
              " 0.8,\n",
              " 0.9,\n",
              " 1.0,\n",
              " 1.1,\n",
              " 1.2000000000000002,\n",
              " 1.3000000000000003,\n",
              " 1.4000000000000001,\n",
              " 1.5000000000000002,\n",
              " 1.6,\n",
              " 1.7000000000000002,\n",
              " 1.8000000000000003,\n",
              " 1.9000000000000001,\n",
              " 2.0,\n",
              " 2.1,\n",
              " 2.2,\n",
              " 2.3000000000000003,\n",
              " 2.4000000000000004,\n",
              " 2.5000000000000004,\n",
              " 2.6,\n",
              " 2.7,\n",
              " 2.8000000000000003,\n",
              " 2.9000000000000004,\n",
              " 3.0000000000000004,\n",
              " 3.1,\n",
              " 3.2,\n",
              " 3.3000000000000003,\n",
              " 3.4000000000000004,\n",
              " 3.5000000000000004,\n",
              " 3.6,\n",
              " 3.7,\n",
              " 3.8000000000000003,\n",
              " 3.9000000000000004,\n",
              " 4.0,\n",
              " 4.1,\n",
              " 4.2,\n",
              " 4.3,\n",
              " 4.3999999999999995,\n",
              " 4.5,\n",
              " 4.6,\n",
              " 4.7,\n",
              " 4.8,\n",
              " 4.9,\n",
              " 5.0,\n",
              " 5.1,\n",
              " 5.2,\n",
              " 5.3,\n",
              " 5.4,\n",
              " 5.5,\n",
              " 5.6,\n",
              " 5.7,\n",
              " 5.8,\n",
              " 5.9,\n",
              " 6.0,\n",
              " 6.1,\n",
              " 6.2,\n",
              " 6.3,\n",
              " 6.4,\n",
              " 6.5,\n",
              " 6.6,\n",
              " 6.7,\n",
              " 6.8,\n",
              " 6.9,\n",
              " 7.0,\n",
              " 7.1,\n",
              " 7.2,\n",
              " 7.3,\n",
              " 7.4,\n",
              " 7.5,\n",
              " 7.6,\n",
              " 7.7,\n",
              " 7.8,\n",
              " 7.9,\n",
              " 8.0,\n",
              " 8.1,\n",
              " 8.2,\n",
              " 8.3,\n",
              " 8.4,\n",
              " 8.5,\n",
              " 8.6,\n",
              " 8.7,\n",
              " 8.8,\n",
              " 8.9,\n",
              " 9.0,\n",
              " 9.1,\n",
              " 9.2,\n",
              " 9.3,\n",
              " 9.4,\n",
              " 9.5,\n",
              " 9.6,\n",
              " 9.700000000000001,\n",
              " 9.8,\n",
              " 9.9,\n",
              " 10.0,\n",
              " 10.1]"
            ]
          },
          "metadata": {},
          "execution_count": 97
        }
      ],
      "source": [
        "list(np.arange(0.1, 10.2, 0.1)) #(start, stop, jump) # as range cannot function with decimals, arange was made. it also includes upper bound."
      ]
    },
    {
      "cell_type": "code",
      "execution_count": 98,
      "id": "a1202772",
      "metadata": {
        "id": "a1202772",
        "outputId": "40f7ef8d-e0fe-47b3-a71e-1c4319c76d13",
        "colab": {
          "base_uri": "https://localhost:8080/"
        }
      },
      "outputs": [
        {
          "output_type": "execute_result",
          "data": {
            "text/plain": [
              "array([1.        , 1.44444444, 1.88888889, 2.33333333, 2.77777778,\n",
              "       3.22222222, 3.66666667, 4.11111111, 4.55555556, 5.        ])"
            ]
          },
          "metadata": {},
          "execution_count": 98
        }
      ],
      "source": [
        "np.linspace(1, 5, 10) # syntax: (start, stop , no. of values to generate in between 1-5), it will include upper-bound 5"
      ]
    },
    {
      "cell_type": "code",
      "execution_count": 99,
      "id": "003e8a94",
      "metadata": {
        "id": "003e8a94",
        "outputId": "a643261d-e752-4bfc-d8db-5441a8b243d2",
        "colab": {
          "base_uri": "https://localhost:8080/"
        }
      },
      "outputs": [
        {
          "output_type": "execute_result",
          "data": {
            "text/plain": [
              "array([ 2.        ,  2.72158   ,  3.70349885,  5.0396842 ,  6.85795186,\n",
              "        9.33223232, 12.69920842, 17.28095582, 23.51575188, 32.        ])"
            ]
          },
          "metadata": {},
          "execution_count": 99
        }
      ],
      "source": [
        "np.logspace(1, 5, 10, base = 2) # syntax: (start, stop, no. of values, log base)"
      ]
    },
    {
      "cell_type": "code",
      "execution_count": 100,
      "id": "b8a3e947",
      "metadata": {
        "id": "b8a3e947",
        "outputId": "8ed0b390-404e-4dfb-aba0-24539592ccec",
        "colab": {
          "base_uri": "https://localhost:8080/"
        }
      },
      "outputs": [
        {
          "output_type": "execute_result",
          "data": {
            "text/plain": [
              "array([1.00000000e+01, 2.78255940e+01, 7.74263683e+01, 2.15443469e+02,\n",
              "       5.99484250e+02, 1.66810054e+03, 4.64158883e+03, 1.29154967e+04,\n",
              "       3.59381366e+04, 1.00000000e+05])"
            ]
          },
          "metadata": {},
          "execution_count": 100
        }
      ],
      "source": [
        "np.logspace(1, 5, 10, base = 10)"
      ]
    },
    {
      "cell_type": "code",
      "execution_count": 101,
      "id": "bc224145",
      "metadata": {
        "id": "bc224145",
        "outputId": "8a5f0167-ad59-472e-d1dc-7ef43cfa415b",
        "colab": {
          "base_uri": "https://localhost:8080/"
        }
      },
      "outputs": [
        {
          "output_type": "execute_result",
          "data": {
            "text/plain": [
              "(5,)"
            ]
          },
          "metadata": {},
          "execution_count": 101
        }
      ],
      "source": [
        "arr1 = np.zeros(5)\n",
        "arr1.shape"
      ]
    },
    {
      "cell_type": "code",
      "execution_count": 102,
      "id": "3e0455b7",
      "metadata": {
        "id": "3e0455b7",
        "outputId": "873f26bc-c9bc-458d-e0cc-ee5fdd219c5a",
        "colab": {
          "base_uri": "https://localhost:8080/"
        }
      },
      "outputs": [
        {
          "output_type": "execute_result",
          "data": {
            "text/plain": [
              "array([0., 0., 0., 0., 0.])"
            ]
          },
          "metadata": {},
          "execution_count": 102
        }
      ],
      "source": [
        "arr1"
      ]
    },
    {
      "cell_type": "code",
      "execution_count": 103,
      "id": "53299a31",
      "metadata": {
        "id": "53299a31",
        "outputId": "990126a9-6976-4da6-fa8c-e2b83268c933",
        "colab": {
          "base_uri": "https://localhost:8080/"
        }
      },
      "outputs": [
        {
          "output_type": "execute_result",
          "data": {
            "text/plain": [
              "1"
            ]
          },
          "metadata": {},
          "execution_count": 103
        }
      ],
      "source": [
        "arr1.ndim"
      ]
    },
    {
      "cell_type": "code",
      "execution_count": 104,
      "id": "b01a518b",
      "metadata": {
        "id": "b01a518b",
        "outputId": "87f0236d-ba85-46de-cb22-f53390ca1c33",
        "colab": {
          "base_uri": "https://localhost:8080/"
        }
      },
      "outputs": [
        {
          "output_type": "execute_result",
          "data": {
            "text/plain": [
              "(3, 4)"
            ]
          },
          "metadata": {},
          "execution_count": 104
        }
      ],
      "source": [
        "arr2 = np.zeros((3, 4))\n",
        "arr2.shape"
      ]
    },
    {
      "cell_type": "code",
      "execution_count": 105,
      "id": "b237a929",
      "metadata": {
        "id": "b237a929",
        "outputId": "13ee1b3b-9722-4808-be03-673d3a47f72b",
        "colab": {
          "base_uri": "https://localhost:8080/"
        }
      },
      "outputs": [
        {
          "output_type": "execute_result",
          "data": {
            "text/plain": [
              "array([[0., 0., 0., 0.],\n",
              "       [0., 0., 0., 0.],\n",
              "       [0., 0., 0., 0.]])"
            ]
          },
          "metadata": {},
          "execution_count": 105
        }
      ],
      "source": [
        "arr2"
      ]
    },
    {
      "cell_type": "code",
      "execution_count": 106,
      "id": "e29d7458",
      "metadata": {
        "id": "e29d7458",
        "outputId": "5abf763e-ba9b-48c9-dfd7-4576fdb05b64",
        "colab": {
          "base_uri": "https://localhost:8080/"
        }
      },
      "outputs": [
        {
          "output_type": "execute_result",
          "data": {
            "text/plain": [
              "2"
            ]
          },
          "metadata": {},
          "execution_count": 106
        }
      ],
      "source": [
        "arr2.ndim"
      ]
    },
    {
      "cell_type": "code",
      "execution_count": 107,
      "id": "b433c287",
      "metadata": {
        "id": "b433c287",
        "outputId": "a177913e-2a62-48f3-d457-7be37344a33f",
        "colab": {
          "base_uri": "https://localhost:8080/"
        }
      },
      "outputs": [
        {
          "output_type": "execute_result",
          "data": {
            "text/plain": [
              "(3, 3, 4)"
            ]
          },
          "metadata": {},
          "execution_count": 107
        }
      ],
      "source": [
        "arr3 = np.zeros((3, 3, 4)) # syntax: repeat 3x4 array in 3d-axis\n",
        "arr3.shape"
      ]
    },
    {
      "cell_type": "code",
      "execution_count": 108,
      "id": "513a361b",
      "metadata": {
        "id": "513a361b",
        "outputId": "31b435e0-0b1c-4cef-97f1-73c65a54b232",
        "colab": {
          "base_uri": "https://localhost:8080/"
        }
      },
      "outputs": [
        {
          "output_type": "execute_result",
          "data": {
            "text/plain": [
              "3"
            ]
          },
          "metadata": {},
          "execution_count": 108
        }
      ],
      "source": [
        "arr3.ndim # will give dimension of an array, here it is a 3d array"
      ]
    },
    {
      "cell_type": "code",
      "source": [
        "arr3"
      ],
      "metadata": {
        "colab": {
          "base_uri": "https://localhost:8080/"
        },
        "id": "i3IiuZom1Fcy",
        "outputId": "dcc8dfcf-8984-4122-f05e-f5e38cb3a770"
      },
      "id": "i3IiuZom1Fcy",
      "execution_count": 109,
      "outputs": [
        {
          "output_type": "execute_result",
          "data": {
            "text/plain": [
              "array([[[0., 0., 0., 0.],\n",
              "        [0., 0., 0., 0.],\n",
              "        [0., 0., 0., 0.]],\n",
              "\n",
              "       [[0., 0., 0., 0.],\n",
              "        [0., 0., 0., 0.],\n",
              "        [0., 0., 0., 0.]],\n",
              "\n",
              "       [[0., 0., 0., 0.],\n",
              "        [0., 0., 0., 0.],\n",
              "        [0., 0., 0., 0.]]])"
            ]
          },
          "metadata": {},
          "execution_count": 109
        }
      ]
    },
    {
      "cell_type": "code",
      "execution_count": 116,
      "id": "5f679cbc",
      "metadata": {
        "id": "5f679cbc",
        "outputId": "45db9ffd-94c2-400a-f7d3-cd6a065c8a81",
        "colab": {
          "base_uri": "https://localhost:8080/"
        }
      },
      "outputs": [
        {
          "output_type": "execute_result",
          "data": {
            "text/plain": [
              "(1, 3, 3, 4)"
            ]
          },
          "metadata": {},
          "execution_count": 116
        }
      ],
      "source": [
        "arr4 = np.zeros((1, 3, 3, 4)) # styntax: (one outer dimension, one inner 3d dimention, rows, columns )\n",
        "arr4.shape"
      ]
    },
    {
      "cell_type": "code",
      "execution_count": 117,
      "id": "e0be87e0",
      "metadata": {
        "id": "e0be87e0",
        "outputId": "bc884f17-82be-4575-ee69-4082f8a80339",
        "colab": {
          "base_uri": "https://localhost:8080/"
        }
      },
      "outputs": [
        {
          "output_type": "execute_result",
          "data": {
            "text/plain": [
              "4"
            ]
          },
          "metadata": {},
          "execution_count": 117
        }
      ],
      "source": [
        "arr4.ndim"
      ]
    },
    {
      "cell_type": "code",
      "execution_count": 118,
      "id": "510eafea",
      "metadata": {
        "id": "510eafea",
        "outputId": "4bd3b1dc-b4a9-43b8-c6a8-928cba7e3772",
        "colab": {
          "base_uri": "https://localhost:8080/"
        }
      },
      "outputs": [
        {
          "output_type": "execute_result",
          "data": {
            "text/plain": [
              "array([[[[0., 0., 0., 0.],\n",
              "         [0., 0., 0., 0.],\n",
              "         [0., 0., 0., 0.]],\n",
              "\n",
              "        [[0., 0., 0., 0.],\n",
              "         [0., 0., 0., 0.],\n",
              "         [0., 0., 0., 0.]],\n",
              "\n",
              "        [[0., 0., 0., 0.],\n",
              "         [0., 0., 0., 0.],\n",
              "         [0., 0., 0., 0.]]]])"
            ]
          },
          "metadata": {},
          "execution_count": 118
        }
      ],
      "source": [
        "arr4 # we can see 4 brackets so it's 4 dimension array"
      ]
    },
    {
      "cell_type": "code",
      "execution_count": 119,
      "id": "9a5be8e0",
      "metadata": {
        "id": "9a5be8e0",
        "outputId": "47746bd2-f95b-440b-9759-1b9ad6c54565",
        "colab": {
          "base_uri": "https://localhost:8080/"
        }
      },
      "outputs": [
        {
          "output_type": "execute_result",
          "data": {
            "text/plain": [
              "array([1., 1., 1., 1., 1.])"
            ]
          },
          "metadata": {},
          "execution_count": 119
        }
      ],
      "source": [
        "np.ones(5)"
      ]
    },
    {
      "cell_type": "code",
      "execution_count": 120,
      "id": "676247ba",
      "metadata": {
        "id": "676247ba"
      },
      "outputs": [],
      "source": [
        "arr = np.ones((3,4))"
      ]
    },
    {
      "cell_type": "code",
      "execution_count": 121,
      "id": "8a025e0f",
      "metadata": {
        "id": "8a025e0f",
        "outputId": "2710bd51-57e5-49d7-8ebb-a864d62ee814",
        "colab": {
          "base_uri": "https://localhost:8080/"
        }
      },
      "outputs": [
        {
          "output_type": "execute_result",
          "data": {
            "text/plain": [
              "array([[1., 1., 1., 1.],\n",
              "       [1., 1., 1., 1.],\n",
              "       [1., 1., 1., 1.]])"
            ]
          },
          "metadata": {},
          "execution_count": 121
        }
      ],
      "source": [
        "arr"
      ]
    },
    {
      "cell_type": "code",
      "execution_count": 122,
      "id": "0bafe867",
      "metadata": {
        "id": "0bafe867",
        "outputId": "a379643a-aa42-40ce-8a57-24000e06041b",
        "colab": {
          "base_uri": "https://localhost:8080/"
        }
      },
      "outputs": [
        {
          "output_type": "execute_result",
          "data": {
            "text/plain": [
              "array([[6., 6., 6., 6.],\n",
              "       [6., 6., 6., 6.],\n",
              "       [6., 6., 6., 6.]])"
            ]
          },
          "metadata": {},
          "execution_count": 122
        }
      ],
      "source": [
        "arr+5"
      ]
    },
    {
      "cell_type": "code",
      "execution_count": 123,
      "id": "86551169",
      "metadata": {
        "id": "86551169",
        "outputId": "30535c80-cc5e-4bb2-f90d-0139a963fb38",
        "colab": {
          "base_uri": "https://localhost:8080/"
        }
      },
      "outputs": [
        {
          "output_type": "execute_result",
          "data": {
            "text/plain": [
              "array([[3., 3., 3., 3.],\n",
              "       [3., 3., 3., 3.],\n",
              "       [3., 3., 3., 3.]])"
            ]
          },
          "metadata": {},
          "execution_count": 123
        }
      ],
      "source": [
        "arr * 3"
      ]
    },
    {
      "cell_type": "code",
      "execution_count": null,
      "id": "1af34c2a",
      "metadata": {
        "id": "1af34c2a"
      },
      "outputs": [],
      "source": [
        "np.array([[[[[[[[[[[[[[1, 1, 1, 1, ,1 ]]]]]]]]]]]]]])"
      ]
    },
    {
      "cell_type": "code",
      "execution_count": 124,
      "id": "bdeeb3e0",
      "metadata": {
        "id": "bdeeb3e0",
        "outputId": "6de0911e-1ab7-4879-a141-d13dcc5bb9ab",
        "colab": {
          "base_uri": "https://localhost:8080/",
          "height": 263
        }
      },
      "outputs": [
        {
          "output_type": "error",
          "ename": "AttributeError",
          "evalue": "module 'numpy' has no attribute 'twos'",
          "traceback": [
            "\u001b[0;31m---------------------------------------------------------------------------\u001b[0m",
            "\u001b[0;31mAttributeError\u001b[0m                            Traceback (most recent call last)",
            "\u001b[0;32m<ipython-input-124-ea940da5f119>\u001b[0m in \u001b[0;36m<cell line: 1>\u001b[0;34m()\u001b[0m\n\u001b[0;32m----> 1\u001b[0;31m \u001b[0mnp\u001b[0m\u001b[0;34m.\u001b[0m\u001b[0mtwos\u001b[0m\u001b[0;34m(\u001b[0m\u001b[0;34m(\u001b[0m\u001b[0;36m2\u001b[0m\u001b[0;34m,\u001b[0m\u001b[0;36m3\u001b[0m\u001b[0;34m)\u001b[0m\u001b[0;34m)\u001b[0m\u001b[0;34m\u001b[0m\u001b[0;34m\u001b[0m\u001b[0m\n\u001b[0m",
            "\u001b[0;32m/usr/local/lib/python3.10/dist-packages/numpy/__init__.py\u001b[0m in \u001b[0;36m__getattr__\u001b[0;34m(attr)\u001b[0m\n\u001b[1;32m    326\u001b[0m             \u001b[0;32mraise\u001b[0m \u001b[0mRuntimeError\u001b[0m\u001b[0;34m(\u001b[0m\u001b[0;34m\"Tester was removed in NumPy 1.25.\"\u001b[0m\u001b[0;34m)\u001b[0m\u001b[0;34m\u001b[0m\u001b[0;34m\u001b[0m\u001b[0m\n\u001b[1;32m    327\u001b[0m \u001b[0;34m\u001b[0m\u001b[0m\n\u001b[0;32m--> 328\u001b[0;31m         raise AttributeError(\"module {!r} has no attribute \"\n\u001b[0m\u001b[1;32m    329\u001b[0m                              \"{!r}\".format(__name__, attr))\n\u001b[1;32m    330\u001b[0m \u001b[0;34m\u001b[0m\u001b[0m\n",
            "\u001b[0;31mAttributeError\u001b[0m: module 'numpy' has no attribute 'twos'"
          ]
        }
      ],
      "source": [
        "np.twos((2,3))"
      ]
    },
    {
      "cell_type": "code",
      "execution_count": null,
      "id": "116f5732",
      "metadata": {
        "id": "116f5732"
      },
      "outputs": [],
      "source": [
        "l = [1, 2,3, 4,5, \"Prince\"]\n",
        "arr = np.array(l)\n",
        "arr.dtype"
      ]
    },
    {
      "cell_type": "code",
      "execution_count": null,
      "id": "dcc05f47",
      "metadata": {
        "id": "dcc05f47"
      },
      "outputs": [],
      "source": [
        "arr"
      ]
    },
    {
      "cell_type": "code",
      "execution_count": null,
      "id": "70c592bb",
      "metadata": {
        "id": "70c592bb"
      },
      "outputs": [],
      "source": []
    },
    {
      "cell_type": "code",
      "execution_count": null,
      "id": "2886a7e1",
      "metadata": {
        "id": "2886a7e1"
      },
      "outputs": [],
      "source": []
    },
    {
      "cell_type": "code",
      "execution_count": null,
      "id": "87e3ff97",
      "metadata": {
        "id": "87e3ff97"
      },
      "outputs": [],
      "source": []
    }
  ],
  "metadata": {
    "kernelspec": {
      "display_name": "Python 3 (ipykernel)",
      "language": "python",
      "name": "python3"
    },
    "language_info": {
      "codemirror_mode": {
        "name": "ipython",
        "version": 3
      },
      "file_extension": ".py",
      "mimetype": "text/x-python",
      "name": "python",
      "nbconvert_exporter": "python",
      "pygments_lexer": "ipython3",
      "version": "3.11.4"
    },
    "colab": {
      "provenance": []
    }
  },
  "nbformat": 4,
  "nbformat_minor": 5
}